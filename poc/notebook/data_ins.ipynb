{
 "cells": [
  {
   "cell_type": "code",
   "execution_count": 1,
   "id": "be80fd17",
   "metadata": {},
   "outputs": [],
   "source": [
    "import psycopg2\n",
    "import pandas as pd\n",
    "import __init__ as ini"
   ]
  },
  {
   "cell_type": "code",
   "execution_count": 2,
   "id": "497dc576",
   "metadata": {},
   "outputs": [
    {
     "data": {
      "text/plain": [
       "'e:\\\\dev\\\\private-equity\\\\poc\\\\notebook'"
      ]
     },
     "execution_count": 2,
     "metadata": {},
     "output_type": "execute_result"
    }
   ],
   "source": [
    "ini.base_dir"
   ]
  },
  {
   "cell_type": "code",
   "execution_count": null,
   "id": "3aa12aae",
   "metadata": {},
   "outputs": [],
   "source": []
  }
 ],
 "metadata": {
  "kernelspec": {
   "display_name": "private-equity",
   "language": "python",
   "name": "private-equity"
  },
  "language_info": {
   "codemirror_mode": {
    "name": "ipython",
    "version": 3
   },
   "file_extension": ".py",
   "mimetype": "text/x-python",
   "name": "python",
   "nbconvert_exporter": "python",
   "pygments_lexer": "ipython3",
   "version": "3.12.11"
  }
 },
 "nbformat": 4,
 "nbformat_minor": 5
}

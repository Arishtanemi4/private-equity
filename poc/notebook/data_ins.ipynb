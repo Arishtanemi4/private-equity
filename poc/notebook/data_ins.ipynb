{
 "cells": [
  {
   "cell_type": "code",
   "execution_count": 1,
   "id": "be80fd17",
   "metadata": {},
   "outputs": [
    {
     "data": {
      "text/plain": [
       "<module '__init__' from 'e:\\\\dev\\\\private-equity\\\\poc\\\\notebook\\\\__init__.py'>"
      ]
     },
     "execution_count": 1,
     "metadata": {},
     "output_type": "execute_result"
    }
   ],
   "source": [
    "import os\n",
    "import psycopg2\n",
    "import importlib\n",
    "import pandas as pd\n",
    "import __init__ as ini\n",
    "\n",
    "importlib.reload(ini)"
   ]
  },
  {
   "cell_type": "code",
   "execution_count": 2,
   "id": "8c085663",
   "metadata": {},
   "outputs": [],
   "source": [
    "def add_fy_quarter_column(df, date_col='date', new_col='fy'):\n",
    "    dates = pd.to_datetime(df[date_col])\n",
    "    \n",
    "    quarters = pd.Series(index=dates.index, dtype=\"object\")\n",
    "    fy_years = pd.Series(index=dates.index, dtype=\"int\")\n",
    "\n",
    "    quarters[dates.dt.month.isin([4, 5, 6])] = 'Q1'\n",
    "    fy_years[dates.dt.month.isin([4, 5, 6])] = dates.dt.year + 1     # Add 1 year for Indian FY\n",
    "\n",
    "    quarters[dates.dt.month.isin([7, 8, 9])] = 'Q2'\n",
    "    fy_years[dates.dt.month.isin([7, 8, 9])] = dates.dt.year + 1     # Add 1 year for Indian FY\n",
    "\n",
    "    quarters[dates.dt.month.isin([10, 11, 12])] = 'Q3'\n",
    "    fy_years[dates.dt.month.isin([10, 11, 12])] = dates.dt.year + 1  # Add 1 year for Indian FY\n",
    "\n",
    "    quarters[dates.dt.month.isin([1, 2, 3])] = 'Q4'\n",
    "    fy_years[dates.dt.month.isin([1, 2, 3])] = dates.dt.year         # Last Quarter stays in same year\n",
    "\n",
    "    fy_years = fy_years.astype('Int16')                              # Changing datatype from float to int for easier extraction of year\n",
    "\n",
    "    df[new_col] = quarters + 'FY' + fy_years.astype(str).str[-2:]    # Extracting last 2 digits from year\n",
    "\n",
    "    return df"
   ]
  },
  {
   "cell_type": "code",
   "execution_count": 3,
   "id": "57023ebc-848a-4b25-9a7c-2df83abfc08d",
   "metadata": {},
   "outputs": [],
   "source": [
    "def extract_pnl(file_name):\n",
    "    file_pnl = os.path.join(ini.raw_data_dir, file_name)\n",
    "    pnl = pd.read_excel(file_pnl, sheet_name=\"profit_loss\")\n",
    "    pnl.rename(columns={'Unnamed: 0': 'index'}, inplace=True)\n",
    "\n",
    "    pnlt = pnl.transpose()                                # Transpose the Table for horizontal format\n",
    "    pnlt.columns = pnlt.iloc[0]                           # The column name i.e. the mertices are in the first row\n",
    "    pnlt = pnlt.iloc[1:]                                  # Dropping the first row\n",
    "    pnlt = pnlt.reset_index()                             # Date is in the index\n",
    "    pnlt.rename(columns={\"index\": \"Date\"}, inplace=True)  # renaming the new columna as Date\n",
    "\n",
    "    # The date is converted incorrectly from the excel sheet as start of the month instead of end of the month\n",
    "    # The format of dates in Excel is Mar-14\n",
    "    pnlt['Date'] = pnlt['Date'] + pd.offsets.MonthEnd(0)  # Setting 0 as parameter ensures that the date does not move to next month incase the date already is end of month\n",
    "\n",
    "    pnlt.columns = (\n",
    "        pnlt.columns\n",
    "        .str.replace('-', '', regex=False)                # 1. Remove all hyphens\n",
    "        .str.strip()                                      # 2. Strip trailing/leading spaces\n",
    "        .str.replace(' ', '_')                            # 3. Replace spaces with underscores\n",
    "        .str.replace('%', 'percent')                      # 4. Replace % with percent\n",
    "        .str.lower()                                      # 5. Lower the column names\n",
    "    )\n",
    "\n",
    "    pnlt = add_fy_quarter_column(pnlt)                    # Adding fy column\n",
    "\n",
    "    company_name = file_name.split('.')[0]                # Fetching company_name from file_name\n",
    "\n",
    "    pnlt['company_name'] = company_name                   # Assigning company_name to all rows of dataframe\n",
    "\n",
    "    return pnlt"
   ]
  },
  {
   "cell_type": "code",
   "execution_count": null,
   "id": "08e59e5f",
   "metadata": {},
   "outputs": [],
   "source": [
    "# Dynamic sql insertion function\n",
    "def insert_df_with_executemany(df, schema_name, table_name, conn_params):\n",
    "    '''\n",
    "        DataFrame and SQL Table should contain the same columns\n",
    "    '''\n",
    "    conn = psycopg2.connect(conn_params)\n",
    "    cursor = conn.cursor()\n",
    "\n",
    "    columns = ', '.join(df.columns)                         # Comma seperated columns for SQL insertion\n",
    "    placeholders = ', '.join(['%s'] * len(df.columns))      # Placeholder (%s) matching number of columns\n",
    "    insert_query = f\"\"\"\n",
    "        INSERT INTO {schema_name}.{table_name}\n",
    "        ({columns}) VALUES ({placeholders})\n",
    "        ON CONFLICT (company_name, date, fy) DO NOTHING\n",
    "    \"\"\"                                                     # Dynamic SQL insert query\n",
    "\n",
    "    print(\"Insert query generated\")\n",
    "    print(insert_query)\n",
    "\n",
    "    data = [tuple(row) for row in df.to_numpy()]\n",
    "    cursor.executemany(insert_query, data)\n",
    "\n",
    "    conn.commit()\n",
    "    cursor.close()\n",
    "    conn.close()\n",
    "    print(\"Data inserted using executemany.\")"
   ]
  },
  {
   "cell_type": "code",
   "execution_count": 5,
   "id": "0b602b89",
   "metadata": {},
   "outputs": [
    {
     "name": "stdout",
     "output_type": "stream",
     "text": [
      "Insert query generated\n",
      "\n",
      "        INSERT INTO financials.pnl\n",
      "        (date, sales, sales_growth_percent, expenses, manufacturing_cost_percent, employee_cost_percent, other_cost_percent, operating_profit, opm_percent, other_income, exceptional_items, other_income_normal, interest, depreciation, profit_before_tax, tax_percent, net_profit, exceptional_items_at, profit_excl_excep, profit_for_pe, profit_for_eps, eps_in_rs, dividend_payout_percent, fy, company_name) VALUES (%s, %s, %s, %s, %s, %s, %s, %s, %s, %s, %s, %s, %s, %s, %s, %s, %s, %s, %s, %s, %s, %s, %s, %s, %s)\n",
      "        ON CONFLICT (company_name, date, fy) DO NOTHING\n",
      "    \n",
      "Data inserted using executemany.\n"
     ]
    }
   ],
   "source": [
    "file_name = 'hdfcamc.xlsx'\n",
    "pnl = extract_pnl(file_name)\n",
    "\n",
    "schema_name = 'financials'\n",
    "table_name = 'pnl'\n",
    "insert_df_with_executemany(pnl, schema_name, table_name, ini.dsn)"
   ]
  },
  {
   "cell_type": "code",
   "execution_count": null,
   "id": "c474253c",
   "metadata": {},
   "outputs": [],
   "source": []
  }
 ],
 "metadata": {
  "kernelspec": {
   "display_name": "private-equity",
   "language": "python",
   "name": "private-equity"
  },
  "language_info": {
   "codemirror_mode": {
    "name": "ipython",
    "version": 3
   },
   "file_extension": ".py",
   "mimetype": "text/x-python",
   "name": "python",
   "nbconvert_exporter": "python",
   "pygments_lexer": "ipython3",
   "version": "3.12.11"
  }
 },
 "nbformat": 4,
 "nbformat_minor": 5
}

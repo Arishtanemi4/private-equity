{
 "cells": [
  {
   "cell_type": "code",
   "execution_count": 1,
   "id": "e0786dda",
   "metadata": {},
   "outputs": [
    {
     "data": {
      "text/plain": [
       "<module '__init__' from 'e:\\\\dev\\\\private-equity\\\\poc\\\\notebook\\\\__init__.py'>"
      ]
     },
     "execution_count": 1,
     "metadata": {},
     "output_type": "execute_result"
    }
   ],
   "source": [
    "import os\n",
    "import psycopg2\n",
    "import importlib\n",
    "import pandas as pd\n",
    "import __init__ as ini\n",
    "\n",
    "importlib.reload(ini)"
   ]
  },
  {
   "cell_type": "code",
   "execution_count": 2,
   "id": "8225b971",
   "metadata": {},
   "outputs": [],
   "source": [
    "def add_fy_quarter_column(df: pd.Series, date_col='date', new_col='fy'):\n",
    "    dates = pd.to_datetime(df[date_col])\n",
    "    \n",
    "    quarters = pd.Series(index=dates.index, dtype=\"object\")\n",
    "    fy_years = pd.Series(index=dates.index, dtype=\"int\")\n",
    "\n",
    "    quarters[dates.dt.month.isin([4, 5, 6])] = '1'\n",
    "    fy_years[dates.dt.month.isin([4, 5, 6])] = dates.dt.year + 1     # Add 1 year for Indian FY\n",
    "\n",
    "    quarters[dates.dt.month.isin([7, 8, 9])] = '2'\n",
    "    fy_years[dates.dt.month.isin([7, 8, 9])] = dates.dt.year + 1     # Add 1 year for Indian FY\n",
    "\n",
    "    quarters[dates.dt.month.isin([10, 11, 12])] = '3'\n",
    "    fy_years[dates.dt.month.isin([10, 11, 12])] = dates.dt.year + 1  # Add 1 year for Indian FY\n",
    "\n",
    "    quarters[dates.dt.month.isin([1, 2, 3])] = '4'\n",
    "    fy_years[dates.dt.month.isin([1, 2, 3])] = dates.dt.year         # Last Quarter stays in same year\n",
    "\n",
    "    fy_years = fy_years.astype('Int16')                              # Changing datatype from float to int for easier extraction of year\n",
    "\n",
    "    df[new_col] = 'Q' + quarters + 'FY' + fy_years.astype(str).str[-2:]    # Extracting last 2 digits from year\n",
    "    df['quarter'] = quarters\n",
    "    df['year'] = fy_years\n",
    "\n",
    "    return df"
   ]
  },
  {
   "cell_type": "code",
   "execution_count": 3,
   "id": "59af3ba9",
   "metadata": {},
   "outputs": [],
   "source": [
    "def extract_financials(file_name: str, financials: str):\n",
    "    '''\n",
    "        Extract Data from excel file and convert into a celan DataFrame.\n",
    "    '''\n",
    "    file_financials = os.path.join(ini.raw_data_dir, file_name)\n",
    "    dft = pd.read_excel(file_financials, sheet_name=financials)\n",
    "    dft.rename(columns={'Unnamed: 0': 'index'}, inplace=True)\n",
    "\n",
    "    dft = dft.transpose()                                # Transpose the Table for horizontal format\n",
    "    dft.columns = dft.iloc[0]                           # The column name i.e. the mertices are in the first row\n",
    "    dft = dft.iloc[1:]                                  # Dropping the first row\n",
    "    dft = dft.reset_index()                             # Date is in the index\n",
    "    dft.rename(columns={\"index\": \"Date\"}, inplace=True)  # renaming the new columna as Date\n",
    "\n",
    "    # The date is converted incorrectly from the excel sheet as start of the month instead of end of the month\n",
    "    # The format of dates in Excel is Mar-14\n",
    "    dft['Date'] = dft['Date'] + pd.offsets.MonthEnd(0)  # Setting 0 as parameter ensures that the date does not move to next month incase the date already is end of month\n",
    "\n",
    "    dft.columns = (\n",
    "        dft.columns\n",
    "        .str.replace('-', '', regex=False)                # 1. Remove all hyphens\n",
    "        .str.strip()                                      # 2. Strip trailing/leading spaces\n",
    "        .str.replace(' ', '_')                            # 3. Replace spaces with underscores\n",
    "        .str.replace('%', 'percent')                      # 4. Replace % with percent\n",
    "        .str.lower()                                      # 5. Lower the column names\n",
    "    )\n",
    "\n",
    "    dft = add_fy_quarter_column(dft)                     # Adding fy column\n",
    "\n",
    "    company_name = file_name.split('.')[0]               # Fetching company_name from file_name\n",
    "    dft['company_name'] = company_name                   # Assigning company_name to all rows of dataframe\n",
    "\n",
    "    return dft"
   ]
  },
  {
   "cell_type": "code",
   "execution_count": 4,
   "id": "88b07958",
   "metadata": {},
   "outputs": [],
   "source": [
    "# Dynamic sql insertion function\n",
    "def insert_df_with_executemany(df: pd.Series, schema_name: str, table_name: str, conn_params: str):\n",
    "    '''\n",
    "        DataFrame and SQL Table should contain the same columns\n",
    "        Dynamic sql insertion function\n",
    "    '''\n",
    "    conn = psycopg2.connect(conn_params)\n",
    "    cursor = conn.cursor()\n",
    "\n",
    "    columns = ', '.join(df.columns)                         # Comma seperated columns for SQL insertion\n",
    "    placeholders = ', '.join(['%s'] * len(df.columns))      # Placeholder (%s) matching number of columns\n",
    "    insert_query = f\"\"\"\n",
    "        INSERT INTO {schema_name}.{table_name}\n",
    "        ({columns}) VALUES ({placeholders})\n",
    "        ON CONFLICT (company_name, date, fy) DO NOTHING\n",
    "    \"\"\"                                                     # Dynamic SQL insert query\n",
    "\n",
    "    print(\"Insert query generated\")\n",
    "    print(insert_query)\n",
    "\n",
    "    data = [tuple(row) for row in df.to_numpy()]\n",
    "    cursor.executemany(insert_query, data)\n",
    "\n",
    "    conn.commit()\n",
    "    cursor.close()\n",
    "    conn.close()\n",
    "    print(\"Data inserted using executemany.\")"
   ]
  },
  {
   "cell_type": "code",
   "execution_count": null,
   "id": "1a762b4a",
   "metadata": {},
   "outputs": [],
   "source": [
    "cf = extract_financials('hdfcamc.xlsx', 'cash_flow')\n",
    "insert_df_with_executemany(cf, schema_name='financials', table_name='cf', conn_params=ini.dsn)"
   ]
  }
 ],
 "metadata": {
  "kernelspec": {
   "display_name": "private-equity",
   "language": "python",
   "name": "private-equity"
  },
  "language_info": {
   "codemirror_mode": {
    "name": "ipython",
    "version": 3
   },
   "file_extension": ".py",
   "mimetype": "text/x-python",
   "name": "python",
   "nbconvert_exporter": "python",
   "pygments_lexer": "ipython3",
   "version": "3.12.11"
  }
 },
 "nbformat": 4,
 "nbformat_minor": 5
}

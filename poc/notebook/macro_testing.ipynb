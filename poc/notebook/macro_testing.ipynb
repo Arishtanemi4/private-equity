{
 "cells": [
  {
   "cell_type": "code",
   "execution_count": 1,
   "id": "3474db1e",
   "metadata": {},
   "outputs": [],
   "source": [
    "import requests"
   ]
  },
  {
   "cell_type": "code",
   "execution_count": 2,
   "id": "6e385ab4",
   "metadata": {},
   "outputs": [
    {
     "data": {
      "text/plain": [
       "b'[{\"company_name\":\"hdfcamc\",\"date\":\"2023-03-31\",\"quarter\":4,\"year\":2023,\"fy\":\"Q4FY23\",\"sales\":2478.0,\"sales_growth_percent\":0.0204,\"expenses\":549.0,\"manufacturing_cost_percent\":0.0218,\"employee_cost_percent\":0.1274,\"other_cost_percent\":0.0723,\"operating_profit\":1929.0,\"opm_percent\":0.78,\"other_income\":4.0,\"exceptional_items\":0.11,\"other_income_normal\":4.22,\"interest\":10.0,\"depreciation\":53.0,\"profit_before_tax\":1871.0,\"tax_percent\":0.24,\"net_profit\":1424.0,\"exceptional_items_at\":0.0,\"profit_excl_excep\":1424.0,\"profit_for_pe\":1424.0,\"profit_for_eps\":1424.0,\"eps_in_rs\":66.72,\"dividend_payout_percent\":0.72}]'"
      ]
     },
     "execution_count": 2,
     "metadata": {},
     "output_type": "execute_result"
    }
   ],
   "source": [
    "url = \"http://127.0.0.1:8000/macro/profit-and-loss?company_name=hdfcamc&fy=Q4FY23\"\n",
    "response = requests.get(url)\n",
    "response.content"
   ]
  },
  {
   "cell_type": "code",
   "execution_count": 3,
   "id": "3f9814c9",
   "metadata": {},
   "outputs": [
    {
     "name": "stdout",
     "output_type": "stream",
     "text": [
      "[{\"company_name\":\"hdfcamc\",\"date\":\"2023-03-31\",\"quarter\":4,\"year\":2023,\"fy\":\"Q4FY23\",\"sales\":2478.0,\"sales_growth_percent\":0.0204,\"expenses\":549.0,\"manufacturing_cost_percent\":0.0218,\"employee_cost_percent\":0.1274,\"other_cost_percent\":0.0723,\"operating_profit\":1929.0,\"opm_percent\":0.78,\"other_income\":4.0,\"exceptional_items\":0.11,\"other_income_normal\":4.22,\"interest\":10.0,\"depreciation\":53.0,\"profit_before_tax\":1871.0,\"tax_percent\":0.24,\"net_profit\":1424.0,\"exceptional_items_at\":0.0,\"profit_excl_excep\":1424.0,\"profit_for_pe\":1424.0,\"profit_for_eps\":1424.0,\"eps_in_rs\":66.72,\"dividend_payout_percent\":0.72}]\n"
     ]
    },
    {
     "name": "stderr",
     "output_type": "stream",
     "text": [
      "  % Total    % Received % Xferd  Average Speed   Time    Time     Time  Current\n",
      "                                 Dload  Upload   Total   Spent    Left  Speed\n",
      "\n",
      "  0     0    0     0    0     0      0      0 --:--:-- --:--:-- --:--:--     0\n",
      "100   611  100   611    0     0   2361      0 --:--:-- --:--:-- --:--:--  2368\n"
     ]
    }
   ],
   "source": [
    "!curl -GET \"http://localhost:8000/macro/profit-and-loss\" --data-urlencode \"company_name=hdfcamc\" --data-urlencode \"fy=Q4FY23\""
   ]
  },
  {
   "cell_type": "code",
   "execution_count": 4,
   "id": "afbb3dc0",
   "metadata": {},
   "outputs": [
    {
     "data": {
      "text/plain": [
       "b'[{\"company_name\":\"hdfcamc\",\"date\":\"2023-03-31\",\"quarter\":4,\"year\":2023,\"fy\":\"Q4FY23\",\"equity_capital\":107.0,\"reserves\":6002.0,\"borrowings\":0.0,\"other_liabilities\":428.0,\"trade_payables\":34.0,\"other_liability_items\":394.0,\"total_liabilities\":6537.0,\"fixed_assets\":150.0,\"building\":22.0,\"equipments\":10.0,\"computers\":29.0,\"furniture_n_fittings\":4.0,\"vehicles\":0.0,\"intangible_assets\":6.0,\"other_fixed_assets\":236.0,\"gross_block\":307.0,\"accumulated_depreciation\":156.0,\"cwip\":2.0,\"investments\":6079.0,\"other_assets\":305.0,\"trade_receivables\":184.0,\"receivables_over_6m\":0.0,\"receivables_under_6m\":184.0,\"cash_equivalents\":4.0,\"loans_n_advances\":47.0,\"other_asset_items\":70.0,\"total_assets\":6537.0}]'"
      ]
     },
     "execution_count": 4,
     "metadata": {},
     "output_type": "execute_result"
    }
   ],
   "source": [
    "url = \"http://127.0.0.1:8000/macro/balance-sheet?company_name=hdfcamc&fy=Q4FY23\"\n",
    "response = requests.get(url)\n",
    "response.content"
   ]
  },
  {
   "cell_type": "code",
   "execution_count": 5,
   "id": "912bee89",
   "metadata": {},
   "outputs": [
    {
     "name": "stdout",
     "output_type": "stream",
     "text": [
      "[{\"company_name\":\"hdfcamc\",\"date\":\"2023-03-31\",\"quarter\":4,\"year\":2023,\"fy\":\"Q4FY23\",\"equity_capital\":107.0,\"reserves\":6002.0,\"borrowings\":0.0,\"other_liabilities\":428.0,\"trade_payables\":34.0,\"other_liability_items\":394.0,\"total_liabilities\":6537.0,\"fixed_assets\":150.0,\"building\":22.0,\"equipments\":10.0,\"computers\":29.0,\"furniture_n_fittings\":4.0,\"vehicles\":0.0,\"intangible_assets\":6.0,\"other_fixed_assets\":236.0,\"gross_block\":307.0,\"accumulated_depreciation\":156.0,\"cwip\":2.0,\"investments\":6079.0,\"other_assets\":305.0,\"trade_receivables\":184.0,\"receivables_over_6m\":0.0,\"receivables_under_6m\":184.0,\"cash_equivalents\":4.0,\"loans_n_advances\":47.0,\"other_asset_items\":70.0,\"total_assets\":6537.0}]\n"
     ]
    },
    {
     "name": "stderr",
     "output_type": "stream",
     "text": [
      "  % Total    % Received % Xferd  Average Speed   Time    Time     Time  Current\n",
      "                                 Dload  Upload   Total   Spent    Left  Speed\n",
      "\n",
      "  0     0    0     0    0     0      0      0 --:--:-- --:--:-- --:--:--     0\n",
      "  0     0    0     0    0     0      0      0 --:--:-- --:--:-- --:--:--     0\n",
      "100   695  100   695    0     0   2608      0 --:--:-- --:--:-- --:--:--  2602\n"
     ]
    }
   ],
   "source": [
    "!curl -GET \"http://localhost:8000/macro/balance-sheet\" --data-urlencode \"company_name=hdfcamc\" --data-urlencode \"fy=Q4FY23\""
   ]
  },
  {
   "cell_type": "code",
   "execution_count": 6,
   "id": "6e60e654",
   "metadata": {},
   "outputs": [
    {
     "data": {
      "text/plain": [
       "b'[{\"company_name\":\"hdfcamc\",\"date\":\"2023-03-31\",\"quarter\":4,\"year\":2023,\"fy\":\"Q4FY23\",\"cash_from_operating_activity\":1149.0,\"profit_from_operations\":1661.0,\"receivables\":-116.0,\"payables\":5.0,\"loans_advances\":0.0,\"other_wc_items\":9.0,\"working_capital_changes\":-102.0,\"direct_taxes\":-410.0,\"cash_from_investing_activity\":-218.0,\"fixed_assets_purchased\":-14.0,\"fixed_assets_sold\":0.0,\"investments_purchased\":-3310.0,\"investments_sold\":3074.0,\"interest_received\":35.0,\"dividends_received\":0.0,\"invest_in_subsidiaries\":-3.0,\"other_investing_items\":0.0,\"cash_from_financing_activity\":-930.0,\"proceeds_from_shares\":10.0,\"interest_paid_fin\":-10.0,\"dividends_paid\":-896.0,\"financial_liabilities\":-34.0,\"share_application_money\":0.0,\"application_money_refund\":0.0,\"other_financing_items\":0.0,\"net_cash_flow\":1.0}]'"
      ]
     },
     "execution_count": 6,
     "metadata": {},
     "output_type": "execute_result"
    }
   ],
   "source": [
    "url = \"http://127.0.0.1:8000/macro/cash-flow?company_name=hdfcamc&fy=Q4FY23\"\n",
    "response = requests.get(url)\n",
    "response.content"
   ]
  },
  {
   "cell_type": "code",
   "execution_count": 7,
   "id": "2cb00b38",
   "metadata": {},
   "outputs": [
    {
     "name": "stdout",
     "output_type": "stream",
     "text": [
      "[{\"company_name\":\"hdfcamc\",\"date\":\"2023-03-31\",\"quarter\":4,\"year\":2023,\"fy\":\"Q4FY23\",\"cash_from_operating_activity\":1149.0,\"profit_from_operations\":1661.0,\"receivables\":-116.0,\"payables\":5.0,\"loans_advances\":0.0,\"other_wc_items\":9.0,\"working_capital_changes\":-102.0,\"direct_taxes\":-410.0,\"cash_from_investing_activity\":-218.0,\"fixed_assets_purchased\":-14.0,\"fixed_assets_sold\":0.0,\"investments_purchased\":-3310.0,\"investments_sold\":3074.0,\"interest_received\":35.0,\"dividends_received\":0.0,\"invest_in_subsidiaries\":-3.0,\"other_investing_items\":0.0,\"cash_from_financing_activity\":-930.0,\"proceeds_from_shares\":10.0,\"interest_paid_fin\":-10.0,\"dividends_paid\":-896.0,\"financial_liabilities\":-34.0,\"share_application_money\":0.0,\"application_money_refund\":0.0,\"other_financing_items\":0.0,\"net_cash_flow\":1.0}]\n"
     ]
    },
    {
     "name": "stderr",
     "output_type": "stream",
     "text": [
      "  % Total    % Received % Xferd  Average Speed   Time    Time     Time  Current\n",
      "                                 Dload  Upload   Total   Spent    Left  Speed\n",
      "\n",
      "  0     0    0     0    0     0      0      0 --:--:-- --:--:-- --:--:--     0\n",
      "100   803  100   803    0     0   3127      0 --:--:-- --:--:-- --:--:--  3136\n"
     ]
    }
   ],
   "source": [
    "!curl -GET \"http://localhost:8000/macro/cash-flow\" --data-urlencode \"company_name=hdfcamc\" --data-urlencode \"fy=Q4FY23\""
   ]
  },
  {
   "cell_type": "code",
   "execution_count": null,
   "id": "4064c9be",
   "metadata": {},
   "outputs": [],
   "source": []
  }
 ],
 "metadata": {
  "kernelspec": {
   "display_name": "private-equity",
   "language": "python",
   "name": "private-equity"
  },
  "language_info": {
   "codemirror_mode": {
    "name": "ipython",
    "version": 3
   },
   "file_extension": ".py",
   "mimetype": "text/x-python",
   "name": "python",
   "nbconvert_exporter": "python",
   "pygments_lexer": "ipython3",
   "version": "3.12.11"
  }
 },
 "nbformat": 4,
 "nbformat_minor": 5
}

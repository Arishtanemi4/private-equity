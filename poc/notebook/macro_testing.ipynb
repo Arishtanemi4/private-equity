{
 "cells": [
  {
   "cell_type": "code",
   "execution_count": 1,
   "id": "3474db1e",
   "metadata": {},
   "outputs": [],
   "source": [
    "import json\n",
    "import requests"
   ]
  },
  {
   "cell_type": "code",
   "execution_count": null,
   "id": "6e385ab4",
   "metadata": {},
   "outputs": [
    {
     "name": "stdout",
     "output_type": "stream",
     "text": [
      "b'[{\"company_name\":\"hdfcamc\",\"date\":\"2023-03-31\",\"quarter\":4,\"year\":2023,\"fy\":\"Q4FY23\",\"sales\":2478.0,\"sales_growth_percent\":0.0204,\"expenses\":549.0,\"manufacturing_cost_percent\":0.0218,\"employee_cost_percent\":0.1274,\"other_cost_percent\":0.0723,\"operating_profit\":1929.0,\"opm_percent\":0.78,\"other_income\":4.0,\"exceptional_items\":0.11,\"other_income_normal\":4.22,\"interest\":10.0,\"depreciation\":53.0,\"profit_before_tax\":1871.0,\"tax_percent\":0.24,\"net_profit\":1424.0,\"exceptional_items_at\":0.0,\"profit_excl_excep\":1424.0,\"profit_for_pe\":1424.0,\"profit_for_eps\":1424.0,\"eps_in_rs\":66.72,\"dividend_payout_percent\":0.72}]'\n"
     ]
    }
   ],
   "source": [
    "url = \"http://127.0.0.1:8000/macro/profit-and-loss?company_name='hdfcamc'&fy='Q4FY23'\"\n",
    "response = requests.get(url)\n",
    "response.content"
   ]
  },
  {
   "cell_type": "code",
   "execution_count": 5,
   "id": "3f9814c9",
   "metadata": {},
   "outputs": [
    {
     "name": "stdout",
     "output_type": "stream",
     "text": [
      "[{\"company_name\":\"hdfcamc\",\"date\":\"2023-03-31\",\"quarter\":4,\"year\":2023,\"fy\":\"Q4FY23\",\"sales\":2478.0,\"sales_growth_percent\":0.0204,\"expenses\":549.0,\"manufacturing_cost_percent\":0.0218,\"employee_cost_percent\":0.1274,\"other_cost_percent\":0.0723,\"operating_profit\":1929.0,\"opm_percent\":0.78,\"other_income\":4.0,\"exceptional_items\":0.11,\"other_income_normal\":4.22,\"interest\":10.0,\"depreciation\":53.0,\"profit_before_tax\":1871.0,\"tax_percent\":0.24,\"net_profit\":1424.0,\"exceptional_items_at\":0.0,\"profit_excl_excep\":1424.0,\"profit_for_pe\":1424.0,\"profit_for_eps\":1424.0,\"eps_in_rs\":66.72,\"dividend_payout_percent\":0.72}]\n"
     ]
    },
    {
     "name": "stderr",
     "output_type": "stream",
     "text": [
      "  % Total    % Received % Xferd  Average Speed   Time    Time     Time  Current\n",
      "                                 Dload  Upload   Total   Spent    Left  Speed\n",
      "\n",
      "  0     0    0     0    0     0      0      0 --:--:-- --:--:-- --:--:--     0\n",
      "  0     0    0     0    0     0      0      0 --:--:-- --:--:-- --:--:--     0\n",
      "100   611  100   611    0     0   1678      0 --:--:-- --:--:-- --:--:--  1678\n"
     ]
    }
   ],
   "source": [
    "!curl -GET \"http://localhost:8000/macro/profit-and-loss\" --data-urlencode \"company_name='hdfcamc'\" --data-urlencode \"fy='Q4FY23'\"\n"
   ]
  },
  {
   "cell_type": "code",
   "execution_count": null,
   "id": "afbb3dc0",
   "metadata": {},
   "outputs": [],
   "source": []
  }
 ],
 "metadata": {
  "kernelspec": {
   "display_name": "private-equity",
   "language": "python",
   "name": "private-equity"
  },
  "language_info": {
   "codemirror_mode": {
    "name": "ipython",
    "version": 3
   },
   "file_extension": ".py",
   "mimetype": "text/x-python",
   "name": "python",
   "nbconvert_exporter": "python",
   "pygments_lexer": "ipython3",
   "version": "3.12.11"
  }
 },
 "nbformat": 4,
 "nbformat_minor": 5
}
